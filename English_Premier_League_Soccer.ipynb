{
  "nbformat": 4,
  "nbformat_minor": 0,
  "metadata": {
    "colab": {
      "provenance": [],
      "authorship_tag": "ABX9TyMkFq2Ka6xXEdiJn4tQVInN"
    },
    "kernelspec": {
      "name": "python3",
      "display_name": "Python 3"
    },
    "language_info": {
      "name": "python"
    }
  },
  "cells": [
    {
      "cell_type": "code",
      "source": [
        "import pandas as pd\n",
        "soccer = pd.read_csv(\"soccer18-19.csv\")\n",
        "print(soccer.shape)\n",
        "soccer.head(100)"
      ],
      "metadata": {
        "id": "YOgOuYgrN8cM"
      },
      "execution_count": null,
      "outputs": []
    },
    {
      "cell_type": "code",
      "source": [
        "soccer.describe()"
      ],
      "metadata": {
        "id": "jxo53d_dMX2h"
      },
      "execution_count": null,
      "outputs": []
    },
    {
      "cell_type": "code",
      "source": [
        "soccer.dtypes"
      ],
      "metadata": {
        "id": "ke3UppozMcej"
      },
      "execution_count": null,
      "outputs": []
    },
    {
      "cell_type": "code",
      "source": [
        "#checking for null values\n",
        "soccer.isnull().sum()"
      ],
      "metadata": {
        "id": "H0tkX9T_MfTL"
      },
      "execution_count": null,
      "outputs": []
    },
    {
      "cell_type": "code",
      "source": [
        "most_fouls_HF=soccer[soccer['HF'] == soccer['HF'].max()]\n",
        "most_fouls_HF.head()"
      ],
      "metadata": {
        "id": "DWIZ2WVuMhuD"
      },
      "execution_count": null,
      "outputs": []
    },
    {
      "cell_type": "code",
      "source": [
        "most_fouls_AF=soccer[soccer['AF'] == soccer['AF'].max()]\n",
        "most_fouls_AF.head()"
      ],
      "metadata": {
        "id": "XHyEUwPNMlpW"
      },
      "execution_count": null,
      "outputs": []
    },
    {
      "cell_type": "code",
      "source": [
        "soccer['HF'].max()"
      ],
      "metadata": {
        "id": "yiNwmMUlMpI6"
      },
      "execution_count": null,
      "outputs": []
    },
    {
      "cell_type": "code",
      "source": [
        "#Away team which commits the most fouls\n",
        "AwayTeam_most_fouls=soccer[soccer['AF'] == soccer['AF'].max()]['AwayTeam']\n",
        "print(AwayTeam_most_fouls)\n",
        "\n",
        "number_of_the_most_fouls_AF=soccer[soccer['AF'] == soccer['AF'].max()]['AF']\n",
        "print(number_of_the_most_fouls_AF)"
      ],
      "metadata": {
        "id": "mubn2KPiMu4k"
      },
      "execution_count": null,
      "outputs": []
    },
    {
      "cell_type": "code",
      "source": [
        "#Home team which commits the most fouls\n",
        "HomeTeam_most_fouls=soccer[soccer['HF'] == soccer['HF'].max()]['HomeTeam']\n",
        "print(HomeTeam_most_fouls)\n",
        "\n",
        "number_of_the_most_fouls_HF=soccer[soccer['HF'] == soccer['HF'].max()]['HF']\n",
        "print(number_of_the_most_fouls_HF)"
      ],
      "metadata": {
        "id": "7TGIkQDnNZ5J"
      },
      "execution_count": null,
      "outputs": []
    },
    {
      "cell_type": "code",
      "source": [
        "#percentage of games that ended in a draw over time\n",
        "instances_with_draws=soccer[soccer['FTR'] == 'D']\n",
        "percentage_draws=len(instances_with_draws)/len(soccer)*100\n",
        "print(percentage_draws)"
      ],
      "metadata": {
        "id": "bk5WW8WeNc8T"
      },
      "execution_count": null,
      "outputs": []
    },
    {
      "cell_type": "code",
      "source": [
        "half_time_draws=soccer[soccer['HTR']=='D']"
      ],
      "metadata": {
        "id": "1Swy454MNgX1"
      },
      "execution_count": null,
      "outputs": []
    },
    {
      "cell_type": "code",
      "source": [
        "#    HTR is D that become FTR d\n",
        "HTR_FTR=half_time_draws[half_time_draws['FTR']=='D']"
      ],
      "metadata": {
        "id": "X_AfFGmXNkk5"
      },
      "execution_count": null,
      "outputs": []
    },
    {
      "cell_type": "code",
      "source": [
        "#Percentage of htr draws that results in ftr is a draw\n",
        "percentage=len(HTR_FTR)/len(half_time_draws)*100\n",
        "print(percentage)"
      ],
      "metadata": {
        "id": "envn6gNVNoJW"
      },
      "execution_count": null,
      "outputs": []
    },
    {
      "cell_type": "code",
      "source": [],
      "metadata": {
        "id": "cZceFiyBNqfw"
      },
      "execution_count": null,
      "outputs": []
    }
  ]
}