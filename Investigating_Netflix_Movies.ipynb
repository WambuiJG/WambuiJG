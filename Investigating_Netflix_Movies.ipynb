{
  "nbformat": 4,
  "nbformat_minor": 0,
  "metadata": {
    "colab": {
      "provenance": [],
      "authorship_tag": "ABX9TyMDd6drkcYiAX3TAfvGdtRb"
    },
    "kernelspec": {
      "name": "python3",
      "display_name": "Python 3"
    },
    "language_info": {
      "name": "python"
    }
  },
  "cells": [
    {
      "cell_type": "code",
      "execution_count": null,
      "metadata": {
        "id": "VoDHtwwHS9Sa"
      },
      "outputs": [],
      "source": [
        "# Importing pandas and matplotlib\n",
        "import pandas as pd\n",
        "import matplotlib.pyplot as plt\n",
        "\n",
        "# Read in the Netflix CSV as a DataFrame\n",
        "netflix_df = pd.read_csv(\"netflix_data.csv\")"
      ]
    },
    {
      "cell_type": "code",
      "source": [
        "# Start coding here! Use as many cells as you like\n",
        "netflix_df.describe()"
      ],
      "metadata": {
        "id": "WiSbPL7dS-DR"
      },
      "execution_count": null,
      "outputs": []
    },
    {
      "cell_type": "code",
      "source": [
        "#looking at the first few rows\n",
        "netflix_df.head()"
      ],
      "metadata": {
        "id": "LWDgTT-TTHE4"
      },
      "execution_count": null,
      "outputs": []
    },
    {
      "cell_type": "code",
      "source": [
        "#only looking at movies\n",
        "netflix_movies=netflix_df.loc[netflix_df['type'] == 'Movie']"
      ],
      "metadata": {
        "id": "XlVvQ0MJTLtL"
      },
      "execution_count": null,
      "outputs": []
    },
    {
      "cell_type": "code",
      "source": [
        "#checking to confirm the change\n",
        "netflix_movies.head()"
      ],
      "metadata": {
        "id": "wejGXAP8TOqM"
      },
      "execution_count": null,
      "outputs": []
    },
    {
      "cell_type": "code",
      "source": [
        "recent_netflix_movies=netflix_movies.loc[netflix_df['release_year'] > 1989]"
      ],
      "metadata": {
        "id": "nnODXrH0TOiE"
      },
      "execution_count": null,
      "outputs": []
    },
    {
      "cell_type": "code",
      "source": [
        "nineties_netflix_movies=recent_netflix_movies.loc[recent_netflix_movies['release_year'] < 2000]"
      ],
      "metadata": {
        "id": "L4ZfNSY5TXkb"
      },
      "execution_count": null,
      "outputs": []
    },
    {
      "cell_type": "code",
      "source": [
        "nineties_netflix_movies.head()"
      ],
      "metadata": {
        "id": "8OCwIwqUTbZf"
      },
      "execution_count": null,
      "outputs": []
    },
    {
      "cell_type": "code",
      "source": [
        "nineties_netflix_movies.describe()"
      ],
      "metadata": {
        "id": "SEDHvBv5Tdvc"
      },
      "execution_count": null,
      "outputs": []
    },
    {
      "cell_type": "code",
      "source": [
        "action_movies=nineties_netflix_movies.loc[nineties_netflix_movies['genre'] == 'Action']"
      ],
      "metadata": {
        "id": "AofHvW9eTf0O"
      },
      "execution_count": null,
      "outputs": []
    },
    {
      "cell_type": "code",
      "source": [
        "action_movies.head()"
      ],
      "metadata": {
        "id": "zxxD-LTeTklu"
      },
      "execution_count": null,
      "outputs": []
    },
    {
      "cell_type": "code",
      "source": [
        "short_action_movies = []\n",
        "for index, row in action_movies.iterrows():\n",
        "    if row['duration'] < 90:\n",
        "        short_action_movies.append(row)\n",
        "short_movie_count=len(short_action_movies)\n",
        "print('The number of short action movies released in the 1990s is ' + str(short_movie_count))"
      ],
      "metadata": {
        "id": "1Y2IaE9PTlKS"
      },
      "execution_count": null,
      "outputs": []
    }
  ]
}